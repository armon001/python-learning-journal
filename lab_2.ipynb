{
  "nbformat": 4,
  "nbformat_minor": 0,
  "metadata": {
    "colab": {
      "provenance": []
    },
    "kernelspec": {
      "name": "python3",
      "display_name": "Python 3"
    },
    "language_info": {
      "name": "python"
    }
  },
  "cells": [
    {
      "cell_type": "code",
      "execution_count": 1,
      "metadata": {
        "colab": {
          "base_uri": "https://localhost:8080/"
        },
        "id": "tcBp2oxIWw6u",
        "outputId": "711a7603-67cf-4987-f52d-ebb6b53db511"
      },
      "outputs": [
        {
          "output_type": "stream",
          "name": "stdout",
          "text": [
            "Enter distance in kilometers: 1.6\n",
            "1.6 kilometers is equivalent to 0.9941936 miles.\n"
          ]
        }
      ],
      "source": [
        "#1\n",
        "def km_to_miles():\n",
        "\n",
        "    km_to_miles = float(0.621371)\n",
        "\n",
        "    kilometers = float(input(\"Enter distance in kilometers: \"))\n",
        "\n",
        "    miles = kilometers * km_to_miles\n",
        "\n",
        "    print(f\"{kilometers} kilometers is equivalent to {miles} miles.\")\n",
        "\n",
        "km_to_miles()\n"
      ]
    },
    {
      "cell_type": "code",
      "source": [
        "\n",
        "#2\n",
        "def c_to_f():\n",
        "\n",
        "    celsius = float(input(\"Enter temp in Celsius: \"))\n",
        "\n",
        "    fahrenheit = (celsius * 9/5) + 32\n",
        "\n",
        "    print(f\"{celsius}C is equivalent to {fahrenheit}F.\")\n",
        "\n",
        "\n",
        "c_to_f()"
      ],
      "metadata": {
        "colab": {
          "base_uri": "https://localhost:8080/"
        },
        "id": "PyjiHhb7W3UK",
        "outputId": "7e6b926c-0b97-471f-9ade-58736075e22a"
      },
      "execution_count": 2,
      "outputs": [
        {
          "output_type": "stream",
          "name": "stdout",
          "text": [
            "Enter temp in Celsius: 69.420\n",
            "69.42C is equivalent to 156.956F.\n"
          ]
        }
      ]
    },
    {
      "cell_type": "code",
      "source": [
        "#3\n",
        "def b_to_d():\n",
        "    binary = '101101000'\n",
        "\n",
        "    decimal = (1 * 2**8) + (0 * 2**7) + (1 * 2**6) + (1 * 2**5) + (0 * 2**4) + (1 * 2**3) + (0 * 2**2) + (0 * 2**1) + (0 * 2**0)\n",
        "\n",
        "    print(f\"The binary number {binary} in decimal form is {decimal}.\")\n",
        "\n",
        "b_to_d()\n"
      ],
      "metadata": {
        "colab": {
          "base_uri": "https://localhost:8080/"
        },
        "id": "_M4itTxEW5XK",
        "outputId": "db48a50b-31ed-46e6-d2c1-d5005fcbde8f"
      },
      "execution_count": 3,
      "outputs": [
        {
          "output_type": "stream",
          "name": "stdout",
          "text": [
            "The binary number 101101000 in decimal form is 360.\n"
          ]
        }
      ]
    }
  ]
}